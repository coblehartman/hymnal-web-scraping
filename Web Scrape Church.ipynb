{
 "cells": [
  {
   "cell_type": "code",
   "execution_count": 5,
   "id": "1da6dc05",
   "metadata": {},
   "outputs": [
    {
     "name": "stdout",
     "output_type": "stream",
     "text": [
      "imported successfully\n"
     ]
    }
   ],
   "source": [
    "try:\n",
    "    from splinter import Browser\n",
    "    from bs4 import BeautifulSoup as soup\n",
    "    import pprint\n",
    "    import pandas as pd\n",
    "    import configparser\n",
    "    print(\"imported successfully\")\n",
    "except ImportError as e: # If failed to import, return notice\n",
    "    print(\"Import faliure:\", e)\n",
    "    \n",
    "config = configparser.ConfigParser()\n",
    "config.read('config.ini')\n",
    "\n",
    "username = config['credentials']['username']\n",
    "password = config['credentials']['password']"
   ]
  },
  {
   "cell_type": "code",
   "execution_count": 13,
   "id": "3a63ef3e",
   "metadata": {},
   "outputs": [],
   "source": [
    "# Initialize splinter/browser\n",
    "browser = Browser('chrome')\n",
    "\n",
    "# Visit hymnal\n",
    "url = 'https://hymnal.pcusastore.com/Hymn/HymnSearch'\n",
    "browser.visit(url)\n",
    "\n",
    "browser.fill('UserName', (username))\n",
    "browser.fill('Password', (password))\n",
    "browser.find_by_css('.linkbutton-login').first.click() #click the login button\n",
    "\n",
    "browser.find_by_css('ul.nav a[href=\"/Hymn/HymnSearch\"]').first.click()\n",
    "# Find the 'Hymn #' link by XPath and click it\n",
    "hymn_sort_link_xpath = \"//a[contains(@class, 'k-link') and contains(text(), 'Hymn #')]\"\n",
    "browser.find_by_xpath(hymn_sort_link_xpath).first.click()\n",
    "\n",
    "# Click on the first hymn\n",
    "browser.find_by_css('a[href=\"/Hymn/Index/1\"]').click()\n",
    "\n",
    "# After logging in, parse the first hymn's HTML with Beautiful Soup\n",
    "first_hymn_html = browser.html\n",
    "html_soup = soup(first_hymn_html, 'html.parser')\n",
    "\n",
    "main_content = html_soup.find('div', class_='mainContent')\n",
    "\n",
    "# Extract the text nodes (ignoring any nested tags like <h2>, <h3> etc.)\n",
    "text_lines = [text for text in main_content.stripped_strings]"
   ]
  },
  {
   "cell_type": "code",
   "execution_count": 16,
   "id": "043ecac9",
   "metadata": {},
   "outputs": [],
   "source": [
    "# Initialize an empty list to store hymn data\n",
    "hymns_data = []\n",
    "\n",
    "# for hymn_number in range(2, 4):\n",
    "for hymn_number in range(2, 854):\n",
    "    url = f\"https://hymnal.pcusastore.com/Hymn/Index/{hymn_number}\"\n",
    "    browser.visit(url)\n",
    "\n",
    "    # Scrape the hymn title text\n",
    "    html = browser.html\n",
    "    html_soup = soup(html, 'html.parser')\n",
    "    \n",
    "    hymn_title_element = html_soup.find('h2', class_='hymnTitle')\n",
    "    hymn_title = hymn_title_element.get_text(strip=True) if hymn_title_element else 'Title not found'\n",
    "\n",
    "    main_content = html_soup.find('div', class_='mainContent')\n",
    "    text_lines = ' '.join([text for text in main_content.stripped_strings])\n",
    "    \n",
    "    # Store the hymn number and title in a dictionary, then add it to the list\n",
    "    hymns_data.append({'HymnNumber': hymn_number, 'Title': hymn_title, 'Lyrics': text_lines})\n",
    "    \n",
    "df_hymns = pd.DataFrame(hymns_data)"
   ]
  },
  {
   "cell_type": "code",
   "execution_count": 18,
   "id": "3d5d7d78",
   "metadata": {},
   "outputs": [
    {
     "data": {
      "text/html": [
       "<div>\n",
       "<style scoped>\n",
       "    .dataframe tbody tr th:only-of-type {\n",
       "        vertical-align: middle;\n",
       "    }\n",
       "\n",
       "    .dataframe tbody tr th {\n",
       "        vertical-align: top;\n",
       "    }\n",
       "\n",
       "    .dataframe thead th {\n",
       "        text-align: right;\n",
       "    }\n",
       "</style>\n",
       "<table border=\"1\" class=\"dataframe\">\n",
       "  <thead>\n",
       "    <tr style=\"text-align: right;\">\n",
       "      <th></th>\n",
       "      <th>HymnNumber</th>\n",
       "      <th>Title</th>\n",
       "      <th>Lyrics</th>\n",
       "    </tr>\n",
       "  </thead>\n",
       "  <tbody>\n",
       "    <tr>\n",
       "      <th>0</th>\n",
       "      <td>2</td>\n",
       "      <td>Come, Thou Almighty King</td>\n",
       "      <td>Previous Hymn Next Hymn Favorite Create Come, ...</td>\n",
       "    </tr>\n",
       "    <tr>\n",
       "      <th>1</th>\n",
       "      <td>3</td>\n",
       "      <td>Womb of Life and Source of Being</td>\n",
       "      <td>Previous Hymn Next Hymn Favorite Create Womb o...</td>\n",
       "    </tr>\n",
       "    <tr>\n",
       "      <th>2</th>\n",
       "      <td>4</td>\n",
       "      <td>Holy God, We Praise Your Name</td>\n",
       "      <td>Previous Hymn Next Hymn Favorite Create Holy G...</td>\n",
       "    </tr>\n",
       "    <tr>\n",
       "      <th>3</th>\n",
       "      <td>5</td>\n",
       "      <td>God the Sculptor of the Mountains</td>\n",
       "      <td>Previous Hymn Next Hymn Favorite Create God th...</td>\n",
       "    </tr>\n",
       "    <tr>\n",
       "      <th>4</th>\n",
       "      <td>6</td>\n",
       "      <td>I Bind unto Myself Today</td>\n",
       "      <td>Previous Hymn Next Hymn Favorite Create I Bind...</td>\n",
       "    </tr>\n",
       "  </tbody>\n",
       "</table>\n",
       "</div>"
      ],
      "text/plain": [
       "   HymnNumber                              Title  \\\n",
       "0           2           Come, Thou Almighty King   \n",
       "1           3   Womb of Life and Source of Being   \n",
       "2           4      Holy God, We Praise Your Name   \n",
       "3           5  God the Sculptor of the Mountains   \n",
       "4           6           I Bind unto Myself Today   \n",
       "\n",
       "                                              Lyrics  \n",
       "0  Previous Hymn Next Hymn Favorite Create Come, ...  \n",
       "1  Previous Hymn Next Hymn Favorite Create Womb o...  \n",
       "2  Previous Hymn Next Hymn Favorite Create Holy G...  \n",
       "3  Previous Hymn Next Hymn Favorite Create God th...  \n",
       "4  Previous Hymn Next Hymn Favorite Create I Bind...  "
      ]
     },
     "execution_count": 18,
     "metadata": {},
     "output_type": "execute_result"
    }
   ],
   "source": [
    "df_hymns.head()"
   ]
  },
  {
   "cell_type": "code",
   "execution_count": 26,
   "id": "97b4c65b",
   "metadata": {},
   "outputs": [],
   "source": [
    "df_hymns.to_csv('/Users/coblehartman/Documents/GitHub/hymnal-web-scraping/unclean_hymns.csv', index=False)"
   ]
  },
  {
   "cell_type": "code",
   "execution_count": 35,
   "id": "bb406bae",
   "metadata": {},
   "outputs": [],
   "source": [
    "# Load unclean hymn data into a new DataFrame\n",
    "clean_df_hymns = pd.read_csv('/Users/coblehartman/Documents/GitHub/hymnal-web-scraping/unclean_hymns.csv')\n",
    "\n",
    "# Define a function to extract text between \"Lyrics\" and \"Informational Notes\"\n",
    "def extract_lyrics(text):\n",
    "    # Find the start of the lyrics\n",
    "    start_idx = text.find('Lyrics')\n",
    "    if start_idx == -1:\n",
    "        # If 'Lyrics' is not found, return an empty string or the whole text as preferred\n",
    "        return ''\n",
    "    start_idx += len('Lyrics')  # Adjust start index to skip the word 'Lyrics' itself\n",
    "    \n",
    "    # Find the end of the lyrics\n",
    "    end_idx = text.find('Informational Notes', start_idx)\n",
    "    if end_idx == -1:\n",
    "        # If 'Informational Notes' is not found, return the text from 'Lyrics' to the end\n",
    "        return text[start_idx:].strip()\n",
    "    \n",
    "    return text[start_idx:end_idx].strip()\n",
    "\n",
    "clean_df_hymns['CleanedText'] = clean_df_hymns['Lyrics'].apply(extract_lyrics)\n",
    "clean_df_hymns = clean_df_hymns.drop(columns=['Lyrics'])"
   ]
  },
  {
   "cell_type": "code",
   "execution_count": 36,
   "id": "8301ced5",
   "metadata": {},
   "outputs": [],
   "source": [
    "clean_df_hymns.to_csv('/Users/coblehartman/Documents/GitHub/hymnal-web-scraping/cleaned_hymns.csv', index=False)"
   ]
  },
  {
   "cell_type": "code",
   "execution_count": 31,
   "id": "97c67bcd",
   "metadata": {},
   "outputs": [],
   "source": [
    "# Close the brower's connection\n",
    "browser.quit()"
   ]
  },
  {
   "cell_type": "markdown",
   "id": "c8d72d37",
   "metadata": {},
   "source": [
    "## Let's import them into PowerPoint now..."
   ]
  },
  {
   "cell_type": "code",
   "execution_count": 40,
   "id": "c264346a",
   "metadata": {},
   "outputs": [
    {
     "name": "stdout",
     "output_type": "stream",
     "text": [
      "Import sucessful\n"
     ]
    }
   ],
   "source": [
    "try:\n",
    "    from pptx import Presentation\n",
    "    from pptx.util import Inches\n",
    "    print('Import sucessful')\n",
    "except ImportError as e:\n",
    "    print('Import Failed', e)"
   ]
  },
  {
   "cell_type": "code",
   "execution_count": null,
   "id": "96a0d16c",
   "metadata": {},
   "outputs": [],
   "source": []
  }
 ],
 "metadata": {
  "kernelspec": {
   "display_name": "Python 3 (ipykernel)",
   "language": "python",
   "name": "python3"
  },
  "language_info": {
   "codemirror_mode": {
    "name": "ipython",
    "version": 3
   },
   "file_extension": ".py",
   "mimetype": "text/x-python",
   "name": "python",
   "nbconvert_exporter": "python",
   "pygments_lexer": "ipython3",
   "version": "3.11.4"
  }
 },
 "nbformat": 4,
 "nbformat_minor": 5
}
