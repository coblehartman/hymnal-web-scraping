{
 "cells": [
  {
   "cell_type": "code",
   "execution_count": 5,
   "id": "1da6dc05",
   "metadata": {},
   "outputs": [
    {
     "name": "stdout",
     "output_type": "stream",
     "text": [
      "imported successfully\n"
     ]
    }
   ],
   "source": [
    "# Import dependancies\n",
    "try:\n",
    "    from splinter import Browser\n",
    "    from bs4 import BeautifulSoup as soup\n",
    "    import pprint\n",
    "    import pandas as pd\n",
    "    import configparser\n",
    "    print(\"imported successfully\")\n",
    "except ImportError as e: # If failed to import, return notice\n",
    "    print(\"Import faliure:\", e)\n",
    "    \n",
    "config = configparser.ConfigParser()\n",
    "config.read('config.ini')\n",
    "\n",
    "username = config['credentials']['username']\n",
    "password = config['credentials']['password']"
   ]
  },
  {
   "cell_type": "code",
   "execution_count": 6,
   "id": "3a63ef3e",
   "metadata": {},
   "outputs": [],
   "source": [
    "# Initialize splinter/browser\n",
    "browser = Browser('chrome')\n",
    "\n",
    "# Visit hymnal\n",
    "url = 'https://hymnal.pcusastore.com/Hymn/HymnSearch'\n",
    "browser.visit(url)\n",
    "\n",
    "# Assuming 'UserName' and 'Password' are the names of the input fields\n",
    "browser.fill('UserName', (username))\n",
    "browser.fill('Password', (password))\n",
    "browser.find_by_css('.linkbutton-login').first.click() #click the login button\n",
    "\n",
    "# Click on search page\n",
    "browser.find_by_css('ul.nav a[href=\"/Hymn/HymnSearch\"]').first.click()\n",
    "# Find the 'Hymn #' link by XPath and click it\n",
    "hymn_sort_link_xpath = \"//a[contains(@class, 'k-link') and contains(text(), 'Hymn #')]\"\n",
    "browser.find_by_xpath(hymn_sort_link_xpath).first.click()\n",
    "\n",
    "# Click on the first hymn\n",
    "browser.find_by_css('a[href=\"/Hymn/Index/1\"]').click()\n",
    "\n",
    "# After logging in, parse the first hymn's HTML with Beautiful Soup\n",
    "first_hymn_html = browser.html\n",
    "html_soup = soup(first_hymn_html, 'html.parser')\n",
    "\n",
    "# Find the 'mainContent' div\n",
    "main_content = html_soup.find('div', class_='mainContent')\n",
    "\n",
    "# Extract the text nodes (ignoring any nested tags like <h2>, <h3> etc.)\n",
    "text_lines = [text for text in main_content.stripped_strings] # 'text_lines' now contains all the text parts separated by <br> tags."
   ]
  },
  {
   "cell_type": "code",
   "execution_count": 3,
   "id": "043ecac9",
   "metadata": {},
   "outputs": [],
   "source": [
    "# Initialize an empty list to store hymn data\n",
    "hymns_data = []\n",
    "\n",
    "for hymn_number in range(2, 853):  # Assuming hymn numbers go from 2 to 853\n",
    "    # Construct the URL for the hymn page\n",
    "    url = f\"https://hymnal.pcusastore.com/Hymn/Index/{hymn_number}\"\n",
    "    browser.visit(url)\n",
    "\n",
    "    # Scrape the hymn text\n",
    "    html = browser.html\n",
    "    html_soup = soup(html, 'html.parser')\n",
    "    main_content = html_soup.find('div', class_='mainContent')\n",
    "    text_lines = ' '.join([text for text in main_content.stripped_strings])\n",
    "\n",
    "    # Store the hymn number and text in a dictionary, then add it to the list\n",
    "    hymns_data.append({'HymnNumber': hymn_number, 'Text': text_lines})\n",
    "\n",
    "# Once all hymns are processed, create a DataFrame\n",
    "df_hymns = pd.DataFrame(hymns_data)"
   ]
  },
  {
   "cell_type": "code",
   "execution_count": null,
   "id": "97b4c65b",
   "metadata": {},
   "outputs": [],
   "source": [
    "# Save the DataFrame to a CSV file for later processing\n",
    "df_hymns.to_csv('./GitHub/hymnal-web-scraping/hymns.csv', index=False)"
   ]
  },
  {
   "cell_type": "code",
   "execution_count": null,
   "id": "bb406bae",
   "metadata": {},
   "outputs": [],
   "source": [
    "# Load unclean hymn data into a new DataFrame\n",
    "new_df_hymns = pd.read_csv('./GitHub/hymnal-web-scraping/hymns.csv')\n",
    "\n",
    "# Define a function to extract text between \"Lyrics\" and \"Informational Notes\"\n",
    "def extract_lyrics(text):\n",
    "    # Find the start of the lyrics\n",
    "    start_idx = text.find('Lyrics')\n",
    "    if start_idx == -1:\n",
    "        # If 'Lyrics' is not found, return an empty string or the whole text as preferred\n",
    "        return ''\n",
    "    start_idx += len('Lyrics')  # Adjust start index to skip the word 'Lyrics' itself\n",
    "    \n",
    "    # Find the end of the lyrics\n",
    "    end_idx = text.find('Informational Notes', start_idx)\n",
    "    if end_idx == -1:\n",
    "        # If 'Informational Notes' is not found, return the text from 'Lyrics' to the end\n",
    "        return text[start_idx:].strip()\n",
    "    \n",
    "    # Extract and return the text between 'Lyrics' and 'Informational Notes'\n",
    "    return text[start_idx:end_idx].strip()\n",
    "\n",
    "# Apply the function to the 'Text' column on the DataFrame\n",
    "new_df_hymns['CleanedText'] = new_df_hymns['Text'].apply(extract_lyrics)\n",
    "\n",
    "# Now new_df_hymns has a new column 'CleanedText' with the extracted lyrics"
   ]
  },
  {
   "cell_type": "code",
   "execution_count": null,
   "id": "8301ced5",
   "metadata": {},
   "outputs": [],
   "source": [
    "# Send to CSV as a new file\n",
    "new_df_hymns.to_csv('./GitHub/hymnal-web-scraping/cleaned_hymns.csv', index=False)"
   ]
  },
  {
   "cell_type": "code",
   "execution_count": 7,
   "id": "97c67bcd",
   "metadata": {},
   "outputs": [],
   "source": [
    "# Close the brower's connection\n",
    "browser.quit()"
   ]
  },
  {
   "cell_type": "code",
   "execution_count": null,
   "id": "cdfedfdc",
   "metadata": {},
   "outputs": [],
   "source": []
  }
 ],
 "metadata": {
  "kernelspec": {
   "display_name": "Python 3 (ipykernel)",
   "language": "python",
   "name": "python3"
  },
  "language_info": {
   "codemirror_mode": {
    "name": "ipython",
    "version": 3
   },
   "file_extension": ".py",
   "mimetype": "text/x-python",
   "name": "python",
   "nbconvert_exporter": "python",
   "pygments_lexer": "ipython3",
   "version": "3.11.4"
  }
 },
 "nbformat": 4,
 "nbformat_minor": 5
}
